{
  "nbformat": 4,
  "nbformat_minor": 0,
  "metadata": {
    "colab": {
      "provenance": [],
      "authorship_tag": "ABX9TyMPZOKCCmkMz/d6K/ePI3/G",
      "include_colab_link": true
    },
    "kernelspec": {
      "name": "python3",
      "display_name": "Python 3"
    },
    "language_info": {
      "name": "python"
    }
  },
  "cells": [
    {
      "cell_type": "markdown",
      "metadata": {
        "id": "view-in-github",
        "colab_type": "text"
      },
      "source": [
        "<a href=\"https://colab.research.google.com/github/CelesteKGomez/InClassAssignments/blob/main/In_Class_Assignment.ipynb\" target=\"_parent\"><img src=\"https://colab.research.google.com/assets/colab-badge.svg\" alt=\"Open In Colab\"/></a>"
      ]
    },
    {
      "cell_type": "code",
      "execution_count": null,
      "metadata": {
        "colab": {
          "base_uri": "https://localhost:8080/"
        },
        "id": "dX99cxUzkOIO",
        "outputId": "c3b169c4-ba99-481e-e9f6-baeed6a6a3eb"
      },
      "outputs": [
        {
          "output_type": "stream",
          "name": "stdout",
          "text": [
            "244.92000000000002\n"
          ]
        }
      ],
      "source": [
        "# Calculate the area of a cylinder\n",
        "pi=3.14\n",
        "r=3\n",
        "h=10\n",
        "Area = 2*pi*r*h+2*pi*r**2\n",
        "print(Area)"
      ]
    },
    {
      "cell_type": "code",
      "source": [
        "type(pi)"
      ],
      "metadata": {
        "colab": {
          "base_uri": "https://localhost:8080/"
        },
        "id": "ecdLLfEbo1Lb",
        "outputId": "7e49bfcc-25e0-457d-8a15-461a6050018b"
      },
      "execution_count": null,
      "outputs": [
        {
          "output_type": "execute_result",
          "data": {
            "text/plain": [
              "float"
            ]
          },
          "metadata": {},
          "execution_count": 2
        }
      ]
    },
    {
      "cell_type": "code",
      "source": [
        "type(r)"
      ],
      "metadata": {
        "colab": {
          "base_uri": "https://localhost:8080/"
        },
        "id": "1ldl81qFo3d6",
        "outputId": "f9f83431-de9c-40d8-89e3-d4cb23749cf8"
      },
      "execution_count": null,
      "outputs": [
        {
          "output_type": "execute_result",
          "data": {
            "text/plain": [
              "int"
            ]
          },
          "metadata": {},
          "execution_count": 3
        }
      ]
    },
    {
      "cell_type": "code",
      "source": [
        "p1 = input('Player 1 :: Rock, Paper, Scissors:')\n",
        "p2 = input('Player 2 :: Rock, Paper, Scissors:')\n",
        "\n",
        "if p1 == p2:\n",
        "  print(\"Draw\")\n",
        "elif (\n",
        "      (p1 == 'rock' and p2 == 'Scissors') or\n",
        "       (p1 == 'Scissors' and p2 == 'Paper') or\n",
        "        (p1 == 'paper' and p2 == 'Rock')\n",
        "    ):\n",
        "    print('Player 1 Wins!)')\n",
        "else:\n",
        "  print('Player 2 Wins!')"
      ],
      "metadata": {
        "colab": {
          "base_uri": "https://localhost:8080/"
        },
        "id": "-w-OpqCoyMll",
        "outputId": "5a8b7bd6-8664-4385-c815-7b35e104aced"
      },
      "execution_count": null,
      "outputs": [
        {
          "output_type": "stream",
          "name": "stdout",
          "text": [
            "Player 1 :: Rock, Paper, Scissors:paper\n",
            "Player 2 :: Rock, Paper, Scissors:rock\n",
            "Player 2 Wins!\n"
          ]
        }
      ]
    },
    {
      "cell_type": "code",
      "source": [
        "n1 = float(input('Enter First number:'))\n",
        "n2 = float(input('Enter Second number:'))\n",
        "symbol = input('Enter Symbol (+,-,/,*,**):')\n",
        "\n",
        "if symbol == '+':\n",
        "  print(n1+n2)\n",
        "elif symbol == '-':\n",
        "  print(n1-n2)\n",
        "elif symbol == '*':\n",
        "  print(n1*n2)\n",
        "elif symbol == '/':\n",
        "  print(n1/n2)\n",
        "else:\n",
        "  print(n1**n2)\n"
      ],
      "metadata": {
        "colab": {
          "base_uri": "https://localhost:8080/"
        },
        "id": "B13Yr6qN5Dir",
        "outputId": "1ef45112-82ba-459c-b563-0c87b1b25bab"
      },
      "execution_count": 11,
      "outputs": [
        {
          "output_type": "stream",
          "name": "stdout",
          "text": [
            "Enter First number:5\n",
            "Enter Second number:6\n",
            "Enter Symbol (+,-,/,*,**):**\n",
            "15625.0\n"
          ]
        }
      ]
    }
  ]
}