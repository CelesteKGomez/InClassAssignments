{
  "cells": [
    {
      "cell_type": "markdown",
      "metadata": {
        "id": "view-in-github",
        "colab_type": "text"
      },
      "source": [
        "<a href=\"https://colab.research.google.com/github/CelesteKGomez/InClassAssignments/blob/main/inClassAssignments_9_10_2024.ipynb\" target=\"_parent\"><img src=\"https://colab.research.google.com/assets/colab-badge.svg\" alt=\"Open In Colab\"/></a>"
      ]
    },
    {
      "cell_type": "code",
      "source": [
        "x = {1, 2.5, 3}"
      ],
      "metadata": {
        "id": "cJBxm-rDMRy8"
      },
      "execution_count": null,
      "outputs": []
    },
    {
      "cell_type": "code",
      "source": [
        "type(x)"
      ],
      "metadata": {
        "colab": {
          "base_uri": "https://localhost:8080/"
        },
        "id": "RCF4ZRR-MWWB",
        "outputId": "04a5179c-017b-4e2f-b040-0e6cf842034e"
      },
      "execution_count": null,
      "outputs": [
        {
          "output_type": "execute_result",
          "data": {
            "text/plain": [
              "set"
            ]
          },
          "metadata": {},
          "execution_count": 2
        }
      ]
    },
    {
      "cell_type": "code",
      "source": [
        "L = [1, 1, 2, 3, 5]"
      ],
      "metadata": {
        "id": "EjI8FSujMZKc"
      },
      "execution_count": null,
      "outputs": []
    },
    {
      "cell_type": "code",
      "source": [
        "set(L)"
      ],
      "metadata": {
        "colab": {
          "base_uri": "https://localhost:8080/"
        },
        "id": "HWl_py6CMnO_",
        "outputId": "621bd5b6-136d-4969-811b-f2610b9a579f"
      },
      "execution_count": null,
      "outputs": [
        {
          "output_type": "execute_result",
          "data": {
            "text/plain": [
              "{1, 2, 3, 5}"
            ]
          },
          "metadata": {},
          "execution_count": 5
        }
      ]
    },
    {
      "cell_type": "code",
      "source": [
        "s1 = set(L)\n",
        "s2 = {1, 4, 8}"
      ],
      "metadata": {
        "id": "tJoYjqg5M4ph"
      },
      "execution_count": null,
      "outputs": []
    },
    {
      "cell_type": "code",
      "source": [
        "s1.intersection(s2)"
      ],
      "metadata": {
        "colab": {
          "base_uri": "https://localhost:8080/"
        },
        "id": "L_F-b_TgNm_O",
        "outputId": "2ed61fc0-a1ca-409c-cc54-17343e34fce7"
      },
      "execution_count": null,
      "outputs": [
        {
          "output_type": "execute_result",
          "data": {
            "text/plain": [
              "{1}"
            ]
          },
          "metadata": {},
          "execution_count": 7
        }
      ]
    },
    {
      "cell_type": "code",
      "source": [
        "s1.union(s2)"
      ],
      "metadata": {
        "colab": {
          "base_uri": "https://localhost:8080/"
        },
        "id": "kfq-Cer_Nu88",
        "outputId": "776fe756-1b0c-4902-a325-c9943f511550"
      },
      "execution_count": null,
      "outputs": [
        {
          "output_type": "execute_result",
          "data": {
            "text/plain": [
              "{1, 2, 3, 4, 5, 8}"
            ]
          },
          "metadata": {},
          "execution_count": 8
        }
      ]
    },
    {
      "cell_type": "code",
      "source": [
        "s1.difference(s2)"
      ],
      "metadata": {
        "colab": {
          "base_uri": "https://localhost:8080/"
        },
        "id": "m9l9zgVBOk1J",
        "outputId": "c729b18e-7969-4151-9823-e14430e6ebcc"
      },
      "execution_count": null,
      "outputs": [
        {
          "output_type": "execute_result",
          "data": {
            "text/plain": [
              "{2, 3, 5}"
            ]
          },
          "metadata": {},
          "execution_count": 9
        }
      ]
    },
    {
      "cell_type": "code",
      "source": [
        "s2.difference(s1)"
      ],
      "metadata": {
        "colab": {
          "base_uri": "https://localhost:8080/"
        },
        "id": "IlkrwiYkO5d_",
        "outputId": "51d35b40-2e59-425b-e438-5e7383697679"
      },
      "execution_count": null,
      "outputs": [
        {
          "output_type": "execute_result",
          "data": {
            "text/plain": [
              "{4, 8}"
            ]
          },
          "metadata": {},
          "execution_count": 10
        }
      ]
    },
    {
      "cell_type": "code",
      "source": [
        "s1.symmetric_difference(s2)"
      ],
      "metadata": {
        "colab": {
          "base_uri": "https://localhost:8080/"
        },
        "id": "ys3ay_wwO8Wd",
        "outputId": "5c4795c1-9029-4840-a2df-f99315f2b09c"
      },
      "execution_count": null,
      "outputs": [
        {
          "output_type": "execute_result",
          "data": {
            "text/plain": [
              "{2, 3, 4, 5, 8}"
            ]
          },
          "metadata": {},
          "execution_count": 11
        }
      ]
    },
    {
      "cell_type": "code",
      "source": [
        "x = input('.....')"
      ],
      "metadata": {
        "id": "wcWN8xjyQAdv"
      },
      "execution_count": null,
      "outputs": []
    },
    {
      "cell_type": "code",
      "source": [
        "def func(inp1, inp2, inp3): #I(nputs)\n",
        "  expr1\n",
        "  expr2\n",
        "  res = final_expr\n",
        "  return res\n",
        "\n",
        "x = 2\n",
        "y= 'hello'\n",
        "z = [1,2,3]\n",
        "\n",
        "w = func(x, y, z)"
      ],
      "metadata": {
        "colab": {
          "base_uri": "https://localhost:8080/",
          "height": 297
        },
        "collapsed": true,
        "id": "62Va-RcZPTJR",
        "outputId": "4b592e26-7834-43d2-f284-5d5be12e2f25"
      },
      "execution_count": null,
      "outputs": [
        {
          "output_type": "error",
          "ename": "NameError",
          "evalue": "name 'expr1' is not defined",
          "traceback": [
            "\u001b[0;31m---------------------------------------------------------------------------\u001b[0m",
            "\u001b[0;31mNameError\u001b[0m                                 Traceback (most recent call last)",
            "\u001b[0;32m<ipython-input-14-c75f4d27484d>\u001b[0m in \u001b[0;36m<cell line: 11>\u001b[0;34m()\u001b[0m\n\u001b[1;32m      9\u001b[0m \u001b[0mz\u001b[0m \u001b[0;34m=\u001b[0m \u001b[0;34m[\u001b[0m\u001b[0;36m1\u001b[0m\u001b[0;34m,\u001b[0m\u001b[0;36m2\u001b[0m\u001b[0;34m,\u001b[0m\u001b[0;36m3\u001b[0m\u001b[0;34m]\u001b[0m\u001b[0;34m\u001b[0m\u001b[0;34m\u001b[0m\u001b[0m\n\u001b[1;32m     10\u001b[0m \u001b[0;34m\u001b[0m\u001b[0m\n\u001b[0;32m---> 11\u001b[0;31m \u001b[0mw\u001b[0m \u001b[0;34m=\u001b[0m \u001b[0mfunc\u001b[0m\u001b[0;34m(\u001b[0m\u001b[0mx\u001b[0m\u001b[0;34m,\u001b[0m \u001b[0my\u001b[0m\u001b[0;34m,\u001b[0m \u001b[0mz\u001b[0m\u001b[0;34m)\u001b[0m\u001b[0;34m\u001b[0m\u001b[0;34m\u001b[0m\u001b[0m\n\u001b[0m",
            "\u001b[0;32m<ipython-input-14-c75f4d27484d>\u001b[0m in \u001b[0;36mfunc\u001b[0;34m(inp1, inp2, inp3)\u001b[0m\n\u001b[1;32m      1\u001b[0m \u001b[0;32mdef\u001b[0m \u001b[0mfunc\u001b[0m\u001b[0;34m(\u001b[0m\u001b[0minp1\u001b[0m\u001b[0;34m,\u001b[0m \u001b[0minp2\u001b[0m\u001b[0;34m,\u001b[0m \u001b[0minp3\u001b[0m\u001b[0;34m)\u001b[0m\u001b[0;34m:\u001b[0m \u001b[0;31m#I(nputs)\u001b[0m\u001b[0;34m\u001b[0m\u001b[0;34m\u001b[0m\u001b[0m\n\u001b[0;32m----> 2\u001b[0;31m   \u001b[0mexpr1\u001b[0m\u001b[0;34m\u001b[0m\u001b[0;34m\u001b[0m\u001b[0m\n\u001b[0m\u001b[1;32m      3\u001b[0m   \u001b[0mexpr2\u001b[0m\u001b[0;34m\u001b[0m\u001b[0;34m\u001b[0m\u001b[0m\n\u001b[1;32m      4\u001b[0m   \u001b[0mres\u001b[0m \u001b[0;34m=\u001b[0m \u001b[0mfinal_expr\u001b[0m\u001b[0;34m\u001b[0m\u001b[0;34m\u001b[0m\u001b[0m\n\u001b[1;32m      5\u001b[0m   \u001b[0;32mreturn\u001b[0m \u001b[0mres\u001b[0m\u001b[0;34m\u001b[0m\u001b[0;34m\u001b[0m\u001b[0m\n",
            "\u001b[0;31mNameError\u001b[0m: name 'expr1' is not defined"
          ]
        }
      ]
    },
    {
      "cell_type": "code",
      "source": [
        "def adder(a,b):\n",
        "  c = a + b\n",
        "  return c\n",
        "\n",
        "x = 3 # a = x\n",
        "y = 4 # b = y\n",
        "z = adder(x, y) #c = a + b whichis basically is c = x+y; z = c --> comes from the return statement within adder function\n",
        "print(z)"
      ],
      "metadata": {
        "id": "eNmuDpjXP5AA",
        "colab": {
          "base_uri": "https://localhost:8080/"
        },
        "outputId": "4923e0b5-8f0d-417a-c596-6ec937eb7660"
      },
      "execution_count": null,
      "outputs": [
        {
          "output_type": "stream",
          "name": "stdout",
          "text": [
            "7\n"
          ]
        }
      ]
    },
    {
      "cell_type": "markdown",
      "metadata": {
        "id": "vplIY7QxfpD7"
      },
      "source": [
        "## Assignment 1: House hunting\n",
        "\n",
        "Suppose that you want to start saving to buy a house. To do that, you rneed to save for a few years before you can afford to make the down payment. In this assignment, you have to determine how long it will take you to save enough money to make the down payment given the following assumptions:\n",
        "\n",
        "1. Let the cost of the house be `total_cost`.\n",
        "2. Let the portion of the cost needed for a down payment be `portion_down_payment`. For simplicity, assume that `portion_down_payment = 0.25 (25%)`.\n",
        "3. Let the amount that you have saved thus far be `current_savings`. You start with a current savings of $0$ dollars.\n",
        "4. Assume that you invest your current savings wisely, with an annual return of `r` (in other words, at the end of each month, you receive an additional `current_savings*r/12` funds to put into your savings – the 12 is because `r` is an annual rate). Assume that your investments earn a return of `r = 0.04 (4%)`.\n",
        "5. Assume your annual salary is `annual_salary`.\n",
        "6. Assume you are going to dedicate a certain amount of your salary each month to saving for the down payment. Let that be `portion_saved`. This variable should be in decimal form (i.e. 0.1 for 10%).\n",
        "7. At the end of each month, your savings will be increased by the return on your investment, plus a percentage of your monthly salary (annual salary / 12).\n",
        "8. Be careful about values that represent annual amounts and those that represent monthly amounts.\n",
        "\n",
        "Write a program to calculate how many months it will take you to save up enough money for a down payment.\n",
        "\n",
        "Your program should ask the user to enter values for the following variables:\n",
        "1. The starting annual salary (`annual_salary`)\n",
        "2. The portion of salary to be saved (`portion_saved`)\n",
        "3. The cost of your dream home (`total_cost`)\n",
        "\n",
        "**Hints:** To help you get started, here is a rough outline of the stages you should probably follow in writing your code:\n",
        "- Use user inputs. For this problem set, you can assume that users will enter valid input (e.g. they won’t enter a `str` when you expect an `int`)\n",
        "- Initialize some state variables. You should decide what information you need. Again, make sure you distinguish between annual and monthly amounts.\n",
        "\n",
        "Printouts should be like:\n",
        "\n",
        "<span style=\"color:blue\">Enter your annual salary:</span> 120000\n",
        "    \n",
        "<span style=\"color:blue\">Enter the percent of your salary to save, as a decimal:</span> .10\n",
        "    \n",
        "<span style=\"color:blue\">Enter the cost of your dream home:</span> 1000000\n",
        "    \n",
        "<span style=\"color:blue\">Number of months:</span> 183"
      ]
    },
    {
      "cell_type": "code",
      "source": [
        "annual_salary = float(input('Enter your annual salary: '))\n",
        "portion_saved = float(input('Enter the percent of your salary to save, as a decimal: '))\n",
        "total_cost = float(input('Enter the cost of your dream home: '))\n",
        "\n",
        "portion_down_payment = 0.25\n",
        "r = 0.04\n",
        "current_savings = 0\n",
        "\n",
        "down_payment = total_cost * portion_down_payment\n",
        "monthly_salary = annual_salary / 12\n",
        "monthly_savings = monthly_salary * portion_saved\n",
        "months = 0\n",
        "\n",
        "while current_savings < down_payment:\n",
        "  current_savings += current_savings * (r/12)\n",
        "  current_savings += monthly_savings\n",
        "  months += 1\n",
        "\n",
        "print(f\"Number of months: {months}\")\n"
      ],
      "metadata": {
        "colab": {
          "base_uri": "https://localhost:8080/"
        },
        "id": "XiN6vtMvRvf0",
        "outputId": "8fa6c6bc-b335-4635-bae1-006011e86967"
      },
      "execution_count": null,
      "outputs": [
        {
          "output_type": "stream",
          "name": "stdout",
          "text": [
            "Enter your annual salary: 120000\n",
            "Enter the percent of your salary to save, as a decimal: .10\n",
            "Enter the cost of your dream home: 1000000\n",
            "Number of months: 183\n"
          ]
        }
      ]
    },
    {
      "cell_type": "markdown",
      "metadata": {
        "id": "PsmCJbaTfpD8"
      },
      "source": [
        "## Assignment 2: Saving with raise\n",
        "\n",
        "Modify the previous program to include the following:\n",
        "1. Have the user input a semi-annual salary raise `semi_annual_raise` (as a decimal percentage)\n",
        "2. After the 6th month, increase your *annual salary* by that percentage. Do the same after the 12th month, the 18th month, and so on.\n",
        "    * **Hint:** Use the mod (\\%) operator\n",
        "\n",
        "Printouts should be like:\n",
        "\n",
        "<span style=\"color:blue\">Enter your annual salary:</span> 120000\n",
        "    \n",
        "<span style=\"color:blue\">Enter the percent of your salary to save, as a decimal:</span> . 05\n",
        "    \n",
        "<span style=\"color:blue\">Enter the cost of your dream home:</span> 500000\n",
        "\n",
        "<span style=\"color:blue\">Enter the semi-annual raise, as a decimal:</span> .03\n",
        "    \n",
        "<span style=\"color:blue\">Number of months:</span> 142"
      ]
    },
    {
      "cell_type": "code",
      "source": [
        "annual_salary = float(input('Enter your annual salary: '))\n",
        "portion_saved = float(input('Enter the percent of your salary to save, as a decimal: '))\n",
        "total_cost = float(input('Enter the cost of your dream home: '))\n",
        "semi_annual_raise = float(input('Enter the semi-annual raise, as a decimal: '))\n",
        "\n",
        "portion_down_payment = 0.25\n",
        "r = 0.04\n",
        "current_savings = 0.0\n",
        "\n",
        "down_payment = total_cost * portion_down_payment\n",
        "monthly_salary = annual_salary / 12\n",
        "monthly_savings = monthly_salary * portion_saved\n",
        "months = 0\n",
        "\n",
        "while current_savings < down_payment:\n",
        "    current_savings += current_savings * (r / 12)\n",
        "    current_savings += monthly_salary * portion_saved\n",
        "\n",
        "    months += 1\n",
        "\n",
        "    if months % 6 == 0:\n",
        "        monthly_salary += monthly_salary * semi_annual_raise\n",
        "\n",
        "\n",
        "print(f\"Number of months: {months}\")\n"
      ],
      "metadata": {
        "colab": {
          "base_uri": "https://localhost:8080/"
        },
        "id": "CBiZ6a3ZGRp6",
        "outputId": "3f18f472-742c-4865-8d48-38b44c3f35ed"
      },
      "execution_count": null,
      "outputs": [
        {
          "output_type": "stream",
          "name": "stdout",
          "text": [
            "Enter your annual salary: 120000\n",
            "Enter the percent of your salary to save, as a decimal: 0.05\n",
            "Enter the cost of your dream home: 500000\n",
            "Enter the semi-annual raise, as a decimal: 0.03\n",
            "Number of months: 142\n"
          ]
        }
      ]
    },
    {
      "cell_type": "markdown",
      "metadata": {
        "id": "_3_w186OfpD9"
      },
      "source": [
        "## Assignment 3: Check if a number is within a range\n",
        "\n",
        "Write a function that checks whether a number is in a given range.\n",
        "\n",
        "This assignment is rather simple, you will need to include a conditional within the function body to see if the given number does belong to the given range.\n",
        "\n",
        "You have to approach the solution to this assignment in two ways. In the first approach, your function will print out the result, whereas in the second, you have to use boolean return values.\n",
        "\n",
        "**Example:** name your function `range_check` and build it to get three arguments: a) the number in question, b) the low end of the range, and c) the high end of the range."
      ]
    },
    {
      "cell_type": "code",
      "source": [
        "def range_check(number, low, high):\n",
        "    if low <= number <= high:\n",
        "        print(f\"{number} is within the range of {low} to {high}.\")\n",
        "    else:\n",
        "        print(f\"{number} is NOT within the range of {low} to {high}.\")\n",
        "\n",
        "range_check(10, 5, 15)\n",
        "range_check(20, 5, 15)"
      ],
      "metadata": {
        "colab": {
          "base_uri": "https://localhost:8080/"
        },
        "id": "j4iJBtghH9MZ",
        "outputId": "8a0529e2-1800-4146-f029-f55b024b8e02"
      },
      "execution_count": null,
      "outputs": [
        {
          "output_type": "stream",
          "name": "stdout",
          "text": [
            "10 is within the range of 5 to 15.\n",
            "20 is NOT within the range of 5 to 15.\n"
          ]
        }
      ]
    },
    {
      "cell_type": "code",
      "source": [
        "def name(first, last, reverse):\n",
        "  if reverse == True:\n",
        "    print(last, ',' , first)\n",
        "  else:\n",
        "      print(first, last)\n",
        "\n",
        "name('John', 'Doe', True)"
      ],
      "metadata": {
        "colab": {
          "base_uri": "https://localhost:8080/"
        },
        "id": "8_RA9mus4_gS",
        "outputId": "7eb3286e-7ea6-448b-b042-0d9feb8d91f6"
      },
      "execution_count": null,
      "outputs": [
        {
          "output_type": "stream",
          "name": "stdout",
          "text": [
            "Doe , John\n"
          ]
        }
      ]
    },
    {
      "cell_type": "code",
      "source": [
        "def name(first, last, reverse=False):\n",
        "  if reverse == True:\n",
        "    print(last, ',' , first)\n",
        "  else:\n",
        "      print(first, last)\n",
        "\n",
        "name('John', 'Doe', False)"
      ],
      "metadata": {
        "colab": {
          "base_uri": "https://localhost:8080/"
        },
        "id": "AgxAZMOc70a5",
        "outputId": "91f8ed0c-a1ac-4dc7-f86e-a95627c2ded1"
      },
      "execution_count": null,
      "outputs": [
        {
          "output_type": "stream",
          "name": "stdout",
          "text": [
            "John Doe\n"
          ]
        }
      ]
    }
  ],
  "metadata": {
    "kernelspec": {
      "display_name": "Python 3",
      "language": "python",
      "name": "python3"
    },
    "language_info": {
      "codemirror_mode": {
        "name": "ipython",
        "version": 3
      },
      "file_extension": ".py",
      "mimetype": "text/x-python",
      "name": "python",
      "nbconvert_exporter": "python",
      "pygments_lexer": "ipython3",
      "version": "3.8.8"
    },
    "colab": {
      "provenance": [],
      "include_colab_link": true
    }
  },
  "nbformat": 4,
  "nbformat_minor": 0
}