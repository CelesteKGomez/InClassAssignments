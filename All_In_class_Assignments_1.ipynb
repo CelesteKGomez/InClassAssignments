{
  "nbformat": 4,
  "nbformat_minor": 0,
  "metadata": {
    "colab": {
      "provenance": []
    },
    "kernelspec": {
      "name": "python3",
      "display_name": "Python 3"
    },
    "language_info": {
      "name": "python"
    }
  },
  "cells": [
    {
      "cell_type": "code",
      "execution_count": null,
      "metadata": {
        "colab": {
          "base_uri": "https://localhost:8080/"
        },
        "id": "R82BLZmT9kXB",
        "outputId": "a5b02040-b0b8-4609-f4e9-03c38fdd27e9"
      },
      "outputs": [
        {
          "output_type": "stream",
          "name": "stdout",
          "text": [
            "244.92000000000002\n"
          ]
        }
      ],
      "source": [
        "# Calculate the area of a cylinder\n",
        "pi=3.14\n",
        "r=3\n",
        "h=10\n",
        "Area = 2*pi*r*h+2*pi*r**2\n",
        "print(Area)"
      ]
    },
    {
      "cell_type": "code",
      "source": [
        "import random\n",
        "Play_again = input('Do you want to play again: ')\n",
        "\n",
        "while Play_again == 'yes':\n",
        "  p1 = input('Player 1 :: Rock, Paper, Scissors:')\n",
        "  p2 = random.choice(['Rock', 'Paper', 'Scissors'])\n",
        "  print(f'Player chose {p1}: computer chose {p2}')\n",
        "  if p1 == p2:\n",
        "    print('Draw')\n",
        "\n",
        "  elif (\n",
        "        (p1 == 'Rock' and p2 == 'Scissors') or\n",
        "        (p1 == 'Scissors' and p2 == 'Paper') or\n",
        "        (p1 == 'Paper' and p2 == 'Rock')\n",
        "      ):\n",
        "      print('Player Wins!')\n",
        "  else:\n",
        "    print('Computer wins!')\n",
        "    Play_again = input('Do you want to play again?: ')\n",
        "\n",
        "  print('Have a nice day!')"
      ],
      "metadata": {
        "colab": {
          "base_uri": "https://localhost:8080/"
        },
        "id": "opADebRU-q_V",
        "outputId": "535b1e75-3394-43ad-bc0f-73236749ea86"
      },
      "execution_count": null,
      "outputs": [
        {
          "output_type": "stream",
          "name": "stdout",
          "text": [
            "Do you want to play again: yes\n",
            "Player 1 :: Rock, Paper, Scissors:rock\n",
            "Player chose rock: computer chose Paper\n",
            "Computer wins!\n",
            "Do you want to play again?: no\n",
            "Have a nice day!\n"
          ]
        }
      ]
    },
    {
      "cell_type": "code",
      "source": [
        "flat_rate = 5\n",
        "hourly_rate = 2.5\n",
        "\n",
        "for i in range(1,9):\n",
        "    charge = flat_rate + i*hourly_rate\n",
        "    if charge < 10:\n",
        "      charge = 10\n",
        "    elif charge > 20:\n",
        "      charge = 20\n",
        "    print(i, charge)"
      ],
      "metadata": {
        "colab": {
          "base_uri": "https://localhost:8080/"
        },
        "id": "rJ31Vxp7-6Fh",
        "outputId": "5d1b0b54-e953-4583-fab0-e44adb0f5efd"
      },
      "execution_count": null,
      "outputs": [
        {
          "output_type": "stream",
          "name": "stdout",
          "text": [
            "1 10\n",
            "2 10.0\n",
            "3 12.5\n",
            "4 15.0\n",
            "5 17.5\n",
            "6 20.0\n",
            "7 20\n",
            "8 20\n"
          ]
        }
      ]
    },
    {
      "cell_type": "code",
      "source": [
        "print('Ad$','Profit')\n",
        "\n",
        "for i in range(0,201,25):\n",
        "  attendes = 20 + 2*round(i**0.5)\n",
        "  profit = attendes * 10 - i - 200\n",
        "  print(i,'  ',profit)"
      ],
      "metadata": {
        "id": "HD4X023D_JpZ"
      },
      "execution_count": null,
      "outputs": []
    },
    {
      "cell_type": "code",
      "source": [
        "months = {}\n",
        "names = [\"Jan\", \"Feb\", \"Mar\", \"Apr\", \"May\", \"Jun\", \"Jul\", \"Aug\", \"Sep\", \"Oct\", \"Nov\", \"Dec\"]\n",
        "numbers = [1,2,3,4,5,6,7,8,9,10,11,12]\n",
        "\n",
        "for idx in numbers:\n",
        "  months[idx] = names[idx - 1]\n",
        "months"
      ],
      "metadata": {
        "id": "JriM7PIz_KcQ"
      },
      "execution_count": null,
      "outputs": []
    },
    {
      "cell_type": "code",
      "source": [
        "def calcFee(hours,decimals = 2):\n",
        "  fee = 5 + hours * 2.5\n",
        "  fee = round(fee,decimals)\n",
        "  return fee\n",
        "\n",
        "def displayFee(fee):\n",
        "  print(fee)\n",
        "\n",
        "h = int(input('Enter number of hours: '))\n",
        "fee = calcFee(h)\n",
        "print(fee)"
      ],
      "metadata": {
        "id": "6qR0acT0_V9G"
      },
      "execution_count": null,
      "outputs": []
    },
    {
      "cell_type": "code",
      "source": [
        "def reverse(s):\n",
        "  if len(s) == 1:\n",
        "   return s\n",
        "  else:\n",
        "    return s[-1] + reverse(s[1:-1]) + s[0]\n",
        "\n",
        "reverse('Hello')"
      ],
      "metadata": {
        "id": "7pMztJCU_fQL"
      },
      "execution_count": null,
      "outputs": []
    },
    {
      "cell_type": "code",
      "source": [
        "class Student:\n",
        "  def __init__(self, name, number):\n",
        "    self.__name = name\n",
        "    self.number = number\n",
        "    self.__courses = []\n",
        "\n",
        "  def  enroll(self, newcourse):\n",
        "    if newcourse not in self.__courses:\n",
        "      self.__courses.append(newcourse)\n",
        "    else:\n",
        "      print(f'You have already enrolled in {newcourse}')\n",
        "\n",
        "  def get_courses(self):\n",
        "    return self.__courses\n",
        "\n",
        "class GradStudent(Student):\n",
        "  def __init__(self, name, number, stipend):\n",
        "    super().__init__(name, number)\n",
        "    self.stipend = stipend\n",
        "\n",
        "  def set_stipend(self, newstipend):\n",
        "    self.stipend = newstipend\n",
        "\n",
        "  def get_stipend(self):\n",
        "    return self.stipend"
      ],
      "metadata": {
        "id": "y91x1b7U_kl-"
      },
      "execution_count": null,
      "outputs": []
    },
    {
      "cell_type": "code",
      "source": [
        "s = Student('Bob', '123')\n",
        "g = GradStudent('Alice', '456', 2000)"
      ],
      "metadata": {
        "id": "UxNNQCjt_lhb"
      },
      "execution_count": null,
      "outputs": []
    },
    {
      "cell_type": "code",
      "source": [
        "s.enroll(\"ABC123\")"
      ],
      "metadata": {
        "id": "NQyB-yuy_nHw"
      },
      "execution_count": null,
      "outputs": []
    },
    {
      "cell_type": "code",
      "source": [
        "g.enroll('XYZ789')"
      ],
      "metadata": {
        "id": "13Wov__9_oxN"
      },
      "execution_count": null,
      "outputs": []
    },
    {
      "cell_type": "code",
      "source": [
        "g.set_stipend(1000)"
      ],
      "metadata": {
        "id": "8jn04OfG_qxs"
      },
      "execution_count": null,
      "outputs": []
    }
  ]
}